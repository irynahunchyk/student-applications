{
 "cells": [
  {
   "cell_type": "code",
   "execution_count": 3,
   "id": "a4826553-ed7a-4550-a725-dea78024b445",
   "metadata": {},
   "outputs": [],
   "source": [
    "from ultralytics import YOLO\n",
    "import cv2\n",
    "import matplotlib.pyplot as plt\n",
    "\n",
    "import pandas as pd\n",
    "import numpy as np"
   ]
  },
  {
   "cell_type": "code",
   "execution_count": 4,
   "id": "267c54ed-3b32-4216-8b32-9e502b7580dc",
   "metadata": {},
   "outputs": [
    {
     "name": "stdout",
     "output_type": "stream",
     "text": [
      "Downloading https://github.com/ultralytics/assets/releases/download/v0.0.0/yolov8x.pt to 'yolov8x.pt'...\n"
     ]
    },
    {
     "name": "stderr",
     "output_type": "stream",
     "text": [
      "100%|███████████████████████████████████████████████████████████████████████████████| 131M/131M [01:41<00:00, 1.35MB/s]\n"
     ]
    }
   ],
   "source": [
    "model = YOLO(\"yolov8x.pt\")\n",
    "dict_classes = model.model.names"
   ]
  },
  {
   "cell_type": "code",
   "execution_count": 8,
   "id": "614fcc44-a53b-4324-bba5-7e96939f9b5d",
   "metadata": {},
   "outputs": [],
   "source": [
    "import wget"
   ]
  },
  {
   "cell_type": "code",
   "execution_count": 12,
   "id": "e3aa64af-30af-4d31-9dd8-cc8aed7d33eb",
   "metadata": {},
   "outputs": [],
   "source": [
    "url = 'https://universe.roboflow.com/ds/CWCXC2q9ru?key=xVHKiMtmmg'"
   ]
  },
  {
   "cell_type": "code",
   "execution_count": 13,
   "id": "2f383661-f4f0-4496-a299-88842de890fe",
   "metadata": {},
   "outputs": [
    {
     "name": "stdout",
     "output_type": "stream",
     "text": [
      "100% [........................................................................] 32505485 / 32505485"
     ]
    }
   ],
   "source": [
    "filename = wget.download(url)"
   ]
  },
  {
   "cell_type": "code",
   "execution_count": 11,
   "id": "1e20672b-2ac2-4307-b0fc-892fa5137e58",
   "metadata": {},
   "outputs": [
    {
     "data": {
      "text/plain": [
       "'Buildings_2.v1i.yolov8 (1).zip'"
      ]
     },
     "execution_count": 11,
     "metadata": {},
     "output_type": "execute_result"
    }
   ],
   "source": [
    "filename"
   ]
  },
  {
   "cell_type": "code",
   "execution_count": 14,
   "id": "7d0d9ca6-4b0c-41a1-8970-9092cf6ef25f",
   "metadata": {},
   "outputs": [],
   "source": [
    "import zipfile"
   ]
  },
  {
   "cell_type": "code",
   "execution_count": 21,
   "id": "ef97dd44-d703-409f-9b8d-cd78942c3bd4",
   "metadata": {},
   "outputs": [],
   "source": [
    "with zipfile.ZipFile('C:/Windows/System32/Yolov8_main/Buildings_2.v1i.yolov8.zip') as target_file:\n",
    "    target_file.extractall('C:/Windows/System32/Yolov8_main/content/building_Data/')"
   ]
  },
  {
   "cell_type": "code",
   "execution_count": 18,
   "id": "7bf656cc-a425-4df9-b985-534134b7a8d4",
   "metadata": {},
   "outputs": [],
   "source": [
    "import os"
   ]
  },
  {
   "cell_type": "code",
   "execution_count": 19,
   "id": "240fd837-7897-4def-b67a-698905788d8a",
   "metadata": {},
   "outputs": [
    {
     "name": "stdout",
     "output_type": "stream",
     "text": [
      "C:\\Windows\\System32\\Yolov8_main\n"
     ]
    }
   ],
   "source": [
    "dir_path = os.path.dirname(os.path.realpath(\"Test2_main.ipynb\"))\n",
    "print(dir_path)"
   ]
  },
  {
   "cell_type": "code",
   "execution_count": 22,
   "id": "c8cb5736-8f61-4363-8697-77380b97b846",
   "metadata": {},
   "outputs": [],
   "source": [
    "import yaml"
   ]
  },
  {
   "cell_type": "code",
   "execution_count": null,
   "id": "3385f153-84ee-466c-85d3-9af2958da713",
   "metadata": {},
   "outputs": [],
   "source": [
    "\n",
    "data = {'train' :  'C:/Windows/System32/Yolov8_main/content/building_Data/train/images',\n",
    "        'val' :  'C:/Windows/System32/Yolov8_main/content/building_Data/val/images',\n",
    "        'test' :  'C:/Windows/System32/Yolov8_main/content/building_Data/test/images',\n",
    "        'nc': 1,\n",
    "        'names': ['building']\n",
    "        }\n",
    "\n",
    "# overwrite the data to the .yaml file\n",
    "with open('C:/Windows/System32/Yolov8_main/content/building_Data/building_data.yaml', 'w') as f:\n",
    "    yaml.dump(data, f)\n",
    "\n",
    "# read the content in .yaml file\n",
    "with open('C:/Windows/System32/Yolov8_main/content/building_Data/building_data.yaml', 'r') as f:\n",
    "    hamster_yaml = yaml.safe_load(f)\n",
    "    display(hamster_yaml)"
   ]
  },
  {
   "cell_type": "code",
   "execution_count": null,
   "id": "c61d2657-b4e6-4887-abc5-abea59cbb996",
   "metadata": {},
   "outputs": [],
   "source": []
  },
  {
   "cell_type": "code",
   "execution_count": null,
   "id": "cabfee83-c37f-4197-9e67-8febbd049e74",
   "metadata": {},
   "outputs": [],
   "source": []
  },
  {
   "cell_type": "code",
   "execution_count": null,
   "id": "77c76374-4b2a-413a-96de-15393ed39611",
   "metadata": {},
   "outputs": [],
   "source": []
  },
  {
   "cell_type": "code",
   "execution_count": null,
   "id": "58113510-54c8-4bb6-867e-95e84c19b056",
   "metadata": {},
   "outputs": [],
   "source": []
  },
  {
   "cell_type": "code",
   "execution_count": null,
   "id": "0d11f462-08ba-415b-801c-3f01d9515e7e",
   "metadata": {},
   "outputs": [],
   "source": []
  }
 ],
 "metadata": {
  "kernelspec": {
   "display_name": "yolov5",
   "language": "python",
   "name": "yolov5"
  },
  "language_info": {
   "codemirror_mode": {
    "name": "ipython",
    "version": 3
   },
   "file_extension": ".py",
   "mimetype": "text/x-python",
   "name": "python",
   "nbconvert_exporter": "python",
   "pygments_lexer": "ipython3",
   "version": "3.11.5"
  }
 },
 "nbformat": 4,
 "nbformat_minor": 5
}
