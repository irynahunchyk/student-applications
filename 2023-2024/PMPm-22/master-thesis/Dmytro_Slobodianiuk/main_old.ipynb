{
 "cells": [
  {
   "cell_type": "code",
   "execution_count": 1,
   "metadata": {},
   "outputs": [
    {
     "name": "stderr",
     "output_type": "stream",
     "text": [
      "c:\\Users\\Admin\\AppData\\Local\\Programs\\Python\\Python38\\lib\\site-packages\\tqdm\\auto.py:21: TqdmWarning: IProgress not found. Please update jupyter and ipywidgets. See https://ipywidgets.readthedocs.io/en/stable/user_install.html\n",
      "  from .autonotebook import tqdm as notebook_tqdm\n"
     ]
    }
   ],
   "source": [
    "# from tensorflow.keras.layers import Input, Lambda, Dense, Flatten,Dropout,Conv2D,MaxPooling2D\n",
    "# from tensorflow.keras.models import Model\n",
    "# from tensorflow.keras.preprocessing import image\n",
    "# from sklearn.metrics import accuracy_score,classification_report,confusion_matrix\n",
    "# from tensorflow.keras.preprocessing.image import ImageDataGenerator\n",
    "# from sklearn.model_selection import train_test_split\n",
    "# from tensorflow.keras.models import Sequential\n",
    "# from ultralytics import YOLO\n",
    "# import numpy as np\n",
    "# import pandas as pd\n",
    "# import os\n",
    "# import cv2\n",
    "# import matplotlib.pyplot as plt\n",
    "# import keras"
   ]
  },
  {
   "cell_type": "code",
   "execution_count": 1,
   "metadata": {},
   "outputs": [],
   "source": [
    "import numpy as np\n",
    "import pandas as pd\n",
    "import matplotlib.pyplot as plt\n",
    "import random\n",
    "import math"
   ]
  },
  {
   "cell_type": "code",
   "execution_count": 2,
   "metadata": {},
   "outputs": [],
   "source": [
    "class Neuron(object):\n",
    "    def __init__(self,childs, weight, isutra):\n",
    "        self.childs = childs\n",
    "        self.weight = weight\n",
    "        self.isutra = isutra\n",
    "        self.out = None"
   ]
  },
  {
   "cell_type": "code",
   "execution_count": 3,
   "metadata": {},
   "outputs": [],
   "source": [
    "class Mind(object):\n",
    "    def __init__(self,childs):\n",
    "        self.outs = childs"
   ]
  },
  {
   "cell_type": "code",
   "execution_count": 4,
   "metadata": {},
   "outputs": [],
   "source": [
    "def create_neuron(layers):\n",
    "    if len(layers) == 1:\n",
    "        neuron = Neuron([],random.uniform(-1,1), True)\n",
    "        for j in range(layers[-1]):\n",
    "            neuron.childs.append(Neuron(None,random.uniform(-1,1),False))\n",
    "        return neuron\n",
    "    else:\n",
    "        neuron = Neuron([],random.uniform(-1,1),False)\n",
    "        for j in range(layers[-1]):\n",
    "            neuron.childs.append(create_neuron(layers[:-1]))\n",
    "        return neuron\n",
    "\n",
    "def create_network(layers,p):\n",
    "    mind = Mind([])\n",
    "    for i in range(p):\n",
    "        mind.outs.append(create_neuron(layers))\n",
    "    return(mind)"
   ]
  },
  {
   "cell_type": "code",
   "execution_count": 5,
   "metadata": {},
   "outputs": [],
   "source": [
    "def act(num):\n",
    "    return(math.tanh(num))"
   ]
  },
  {
   "cell_type": "code",
   "execution_count": 6,
   "metadata": {},
   "outputs": [],
   "source": [
    "class Neuron(object):\n",
    "    def __init__(self, childs, weight,isultra):\n",
    "        self.childs = childs\n",
    "        self.weight = weight\n",
    "        self.isultra=isultra\n",
    "        self.out=None\n",
    "\n",
    "    def getout(self,input):\n",
    "        if self.isultra:\n",
    "            out=0\n",
    "            for i in range(len(input)):\n",
    "                self.childs[i].out=input[i]\n",
    "                out+=act(self.childs[i].out*self.childs[i].weight)\n",
    "            self.out=act(out)\n",
    "            return(self.out)\n",
    "        else:\n",
    "            out=0\n",
    "            for i in range(len(self.childs)):\n",
    "                out+=act(self.childs[i].getout(input)*self.childs[i].weight)\n",
    "            self.out=act(out)\n",
    "            return(self.out)"
   ]
  },
  {
   "cell_type": "code",
   "execution_count": 7,
   "metadata": {},
   "outputs": [],
   "source": [
    "class Mind(object):\n",
    "    def __init__(self, childs):\n",
    "        self.outs = childs\n",
    "\n",
    "    def out(self,input):\n",
    "        maxx=-float('inf')\n",
    "        maxxlist=list()\n",
    "        for i in range(len(self.outs)):\n",
    "            now=self.outs[i].getout(input)\n",
    "            if now==maxx:\n",
    "                maxxlist.append(i)\n",
    "            if now> maxx:\n",
    "                maxx=now\n",
    "                maxxlist=[i]\n",
    "        return(random.choice(maxxlist))"
   ]
  },
  {
   "cell_type": "code",
   "execution_count": 8,
   "metadata": {},
   "outputs": [],
   "source": [
    "mind = create_network([25,16],4)"
   ]
  },
  {
   "cell_type": "code",
   "execution_count": 9,
   "metadata": {},
   "outputs": [
    {
     "name": "stdout",
     "output_type": "stream",
     "text": [
      "0\n"
     ]
    }
   ],
   "source": [
    "print(mind.out([random.uniform(-1,1) for i in range(25)]))"
   ]
  },
  {
   "cell_type": "code",
   "execution_count": 10,
   "metadata": {},
   "outputs": [
    {
     "name": "stdout",
     "output_type": "stream",
     "text": [
      "2\n"
     ]
    }
   ],
   "source": [
    "print(mind.out([random.uniform(-1,1) for i in range(25)]))"
   ]
  },
  {
   "cell_type": "code",
   "execution_count": 11,
   "metadata": {},
   "outputs": [],
   "source": [
    "global defch\n",
    "def okr(num):\n",
    "    #num = int(num + (0.5 if num >0 else -0.5))\n",
    "    return num"
   ]
  },
  {
   "cell_type": "code",
   "execution_count": 12,
   "metadata": {},
   "outputs": [],
   "source": [
    "class Neuron(object):\n",
    "    def __init__(self, childs, weight,isultra):\n",
    "        self.childs = childs\n",
    "        self.weight = weight\n",
    "        self.isultra=isultra\n",
    "        self.out=None\n",
    "\n",
    "    def getout(self,input):\n",
    "        if self.isultra:\n",
    "            out=0\n",
    "            for i in range(len(input)):\n",
    "                self.childs[i].out=input[i]\n",
    "                out+=act(self.childs[i].out*self.childs[i].weight)\n",
    "            self.out=act(out)\n",
    "            return(self.out)\n",
    "        else:\n",
    "            out=0\n",
    "            for i in range(len(self.childs)):\n",
    "                out+=act(self.childs[i].getout(input)*self.childs[i].weight)\n",
    "            self.out=act(out)\n",
    "            return(self.out)\n",
    "\n",
    "    def chweight(self,mlt):\n",
    "        if self.isultra:\n",
    "            for i in range(len(self.childs)):\n",
    "                if self.childs[i].out>=0.4:\n",
    "                    self.childs[i].weight+=mlt\n",
    "                if self.childs[i].out<=-0.4:\n",
    "                    self.childs[i].weight-=mlt\n",
    "            if self.out>=0.4:\n",
    "                self.weight+=mlt\n",
    "            if self.out<=-0.4:\n",
    "                self.weight-=mlt\n",
    "        else:\n",
    "            for i in range(len(self.childs)):\n",
    "                self.childs[i].chweight(mlt)\n",
    "            if self.out>=0.4:\n",
    "                self.weight+=mlt\n",
    "            if self.out<=-0.4:\n",
    "                self.weight-=mlt\n",
    "        return"
   ]
  },
  {
   "cell_type": "code",
   "execution_count": 13,
   "metadata": {},
   "outputs": [],
   "source": [
    "class Mind(object):\n",
    "    def __init__(self, childs):\n",
    "        self.outs = childs\n",
    "\n",
    "    def out(self,input):\n",
    "        maxx=-float('inf')\n",
    "        maxxlist=list()\n",
    "        for i in range(len(self.outs)):\n",
    "            now=self.outs[i].getout(input)\n",
    "            if now==maxx:\n",
    "                maxxlist.append(i)\n",
    "            if now> maxx:\n",
    "                maxx=now\n",
    "                maxxlist=[i]\n",
    "        return(random.choice(maxxlist))\n",
    "\n",
    "    def bad(self,out,cof):\n",
    "        if out ==-1:\n",
    "            for i in range(len(self.outs)):\n",
    "                self.outs[i].chweight(-defch*cof/len(self.outs))\n",
    "        else:\n",
    "            self.outs[out].chweight(-defch*cof)\n",
    "        return\n",
    "    def good(self,out,cof):\n",
    "        if out ==-1:\n",
    "            for i in range(len(self.outs)):\n",
    "                self.outs[i].chweight(defch*cof/len(self.outs))\n",
    "        else:\n",
    "            self.outs[out].chweight(defch*cof)\n",
    "        return"
   ]
  },
  {
   "cell_type": "code",
   "execution_count": 14,
   "metadata": {},
   "outputs": [],
   "source": [
    "def create_neuron(layers):\n",
    "    if len(layers)==1:\n",
    "        neuron=Neuron([],random.uniform(-1,1),True)\n",
    "        for j in range(layers[-1]):\n",
    "            neuron.childs.append(Neuron(None,random.uniform(-1,1),False))\n",
    "        return neuron\n",
    "    else:\n",
    "        neuron=Neuron([],random.uniform(-1, 1),False)\n",
    "        for j in range(layers[-1]):\n",
    "            neuron.childs.append(create_neuron(layers[:-1]))\n",
    "        return neuron\n",
    "\n",
    "def create_network(layers,p):\n",
    "    mind=Mind([])\n",
    "    for i in range(p):\n",
    "        mind.outs.append(create_neuron(layers))\n",
    "    return(mind)"
   ]
  },
  {
   "cell_type": "code",
   "execution_count": null,
   "metadata": {},
   "outputs": [],
   "source": []
  },
  {
   "cell_type": "code",
   "execution_count": null,
   "metadata": {},
   "outputs": [],
   "source": []
  },
  {
   "cell_type": "code",
   "execution_count": null,
   "metadata": {},
   "outputs": [],
   "source": []
  },
  {
   "cell_type": "code",
   "execution_count": null,
   "metadata": {},
   "outputs": [],
   "source": []
  },
  {
   "cell_type": "code",
   "execution_count": null,
   "metadata": {},
   "outputs": [],
   "source": []
  },
  {
   "cell_type": "code",
   "execution_count": null,
   "metadata": {},
   "outputs": [],
   "source": []
  },
  {
   "cell_type": "code",
   "execution_count": null,
   "metadata": {},
   "outputs": [],
   "source": []
  }
 ],
 "metadata": {
  "kernelspec": {
   "display_name": "Python 3",
   "language": "python",
   "name": "python3"
  },
  "language_info": {
   "codemirror_mode": {
    "name": "ipython",
    "version": 3
   },
   "file_extension": ".py",
   "mimetype": "text/x-python",
   "name": "python",
   "nbconvert_exporter": "python",
   "pygments_lexer": "ipython3",
   "version": "3.8.5"
  }
 },
 "nbformat": 4,
 "nbformat_minor": 2
}
