{
 "cells": [
  {
   "cell_type": "code",
   "execution_count": 1,
   "metadata": {},
   "outputs": [],
   "source": [
    "import cv2 as cv2\n",
    "import numpy as np\n",
    "from pykuwahara import kuwahara\n",
    "import ipywidgets as widgets\n",
    "from IPython.display import display\n",
    "from ipywidgets import interact"
   ]
  },
  {
   "cell_type": "code",
   "execution_count": 17,
   "metadata": {},
   "outputs": [],
   "source": [
    "img = cv2.imread(\"test.png\",cv2.IMREAD_GRAYSCALE)\n",
    "filename=img\n"
   ]
  },
  {
   "cell_type": "code",
   "execution_count": null,
   "metadata": {},
   "outputs": [],
   "source": [
    "import cv2\n",
    "img = cv2.imread(filename)\n",
    "denoise = cv2.GaussianBlur(img, (3, 3), 0)\n",
    "to_gray = cv2.cvtColor(denoise, cv2.COLOR_BGR2GRAY)\n",
    "kernelx = np.array([[1, 1, 1], [0, 0, 0], [-1, -1, -1]])\n",
    "kernely = np.array([[-1, 0, 1], [-1, 0, 1], [-1, 0, 1]])\n",
    "img_prewittx = cv2.filter2D(to_gray, cv2.CV_64F, kernelx)\n",
    "img_prewitty = cv2.filter2D(to_gray, cv2.CV_64F, kernely)\n",
    "img_combined = img_prewittx + img_prewitty\n",
    "cv2.imwrite(filename, img_combined)\n"
   ]
  },
  {
   "cell_type": "code",
   "execution_count": null,
   "metadata": {},
   "outputs": [],
   "source": [
    "img = cv2.imread(filename)\n",
    "denoise=cv2.GaussianBlur(img,(3,3),0)\n",
    " to_gray=cv2.cvtColor(denoise, cv2.COLOR_BGR2GRAY)\n",
    " res_lap=cv2.Laplacian(to_gray,cv2.CV_16S,ksize=3)\n",
    "cv2.imwrite(filename, res_lap)\n"
   ]
  },
  {
   "cell_type": "code",
   "execution_count": null,
   "metadata": {},
   "outputs": [],
   "source": [
    "import cv2\n",
    "img = cv2.imread(filename)\n",
    "denoise = cv2.GaussianBlur(img, (3, 3), 0)\n",
    "to_gray = cv2.cvtColor(denoise, cv2.COLOR_BGR2GRAY)\n",
    "sobel_combined = cv2.Sobel(to_gray, cv2.CV_64F, 1, 1, ksize=3)\n",
    "cv2.imwrite(filename, sobel_combined)\n"
   ]
  },
  {
   "cell_type": "code",
   "execution_count": null,
   "metadata": {},
   "outputs": [],
   "source": [
    "img = cv2.imread(filename, cv.IMREAD_GRAYSCALE)\n",
    "canny_edges=cv2.Canny (img,150,250)\n",
    "cv2.imwrite(filename, canny_edges)\n"
   ]
  },
  {
   "cell_type": "code",
   "execution_count": null,
   "metadata": {},
   "outputs": [],
   "source": [
    "from ultralytics import YOLO\n",
    "model = YOLO('yolov8n.yaml')  \n",
    "model = YOLO('yolov8n.pt')\n",
    "results = model.train(data='./CustomPlane_copy.yaml',epochs=50,imgsz=1000)\n",
    "\n",
    "results = model.val()  \n",
    "\n",
    "import cv2\n",
    "image='D:/temp_2/0259.png'\n",
    "img = cv2.imread(image)\n",
    "class_name_dict = {0: 'Helicopter',\n",
    "                    1:'USSR|CIV/Transport|AN-124',\n",
    "                    2:'USSR|CIV/Transport/Recon.|AN-24/26/30',\n",
    "                    3: 'USSR|Transport|AN-22',\n",
    "                    4:'USSR|Transport|AN-12',\n",
    "                    5:'USSR|CIV/Transport|AN-2',\n",
    "                    6:'USSR|Transport/Refuel.|IL-76/78',\n",
    "                    7:'USSR|Surv./MPA|IL-20/38',\n",
    "                    8:'CZECHOSLOVAKIA|Trainer/G-A|L-39',\n",
    "                    9:'RUSSIA|Trainer|YAK-130',\n",
    "                    10:'USSR|AWACS|A-50',\n",
    "                    11:'USSR|Bomber|TU-22',\n",
    "                    12:'USSR|Strat.Bomber|TU-22M',\n",
    "                    13:'USSR|Strat.Bomber/MAP|TU-95/142',\n",
    "                    14:'USSR|Strat.Bomber|TU-160',\n",
    "                    15:'USSR|Trainer|TU-134',\n",
    "                    16:'CIV AIRCRAFT',\n",
    "                    17:'USSR|Interceptor/G-A|MIG-31',\n",
    "                    18:'USSR|Fighter|MIG-29',\n",
    "                    19:'USSR|Mutlirole Fighter|SU-27/30/33/35',\n",
    "                    20:'USSR|Fighter/Bomber|SU-34',\n",
    "                    21:'USSR|CAS|SU-25',\n",
    "                    22:'USSR|Tact.Bomber|SU-24'\n",
    "                    }\n",
    "results = model(img)[0]   \n",
    "for result in results.boxes.data.tolist():\n",
    "            x1, y1, x2, y2, score, class_id = result\n",
    "            cv2.rectangle(img, (int(x1), int(y1)), (int(x2), int(y2)), (0, 255, 0), 4)\n",
    "            cv2.putText(img, class_name_dict[int(class_id)].upper(), (int(x1), int(y1 - 10)),\n",
    "            cv2.FONT_HERSHEY_SIMPLEX,0.5, (0, 255, 0), 1, cv2.LINE_AA)\n",
    "            cv2.imwrite('recognized.jpg',img)\n"
   ]
  },
  {
   "cell_type": "markdown",
   "metadata": {},
   "source": [
    "Demonstration of convolution operators "
   ]
  },
  {
   "cell_type": "code",
   "execution_count": 23,
   "metadata": {},
   "outputs": [],
   "source": [
    "filt_gaus=cv2.GaussianBlur(img,(3,3),0)\n",
    "filt_bilateral=cv2.bilateralFilter(img,9,250,250)\n",
    "filt_kuwahara = kuwahara(img, method='mean', radius=5)\n"
   ]
  },
  {
   "cell_type": "code",
   "execution_count": 25,
   "metadata": {},
   "outputs": [],
   "source": [
    "filt_to_edge=filt_gaus\n",
    "img_resolution=(1000,1000)\n",
    "resized_img=cv2.resize(img,img_resolution)\n",
    "res_blur=cv2.resize(filt_to_edge,img_resolution)\n",
    "#cv2.imshow(\"blurred_image\",res_blur)"
   ]
  },
  {
   "cell_type": "code",
   "execution_count": null,
   "metadata": {},
   "outputs": [],
   "source": [
    "import cv2 as cv2\n",
    "import numpy as np\n",
    "from pykuwahara import kuwahara\n",
    "import ipywidgets as widgets\n",
    "from IPython.display import display\n",
    "from ipywidgets import interact\n",
    "\n",
    "\n",
    "img = cv2.imread(\"test.png\", cv2.IMREAD_GRAYSCALE)\n",
    "\n",
    "def process_image(filter_type, kernel_size, dx_n, dy_n, sob_kernel_size):\n",
    "    if filter_type == 'Gaussian':\n",
    "        filtered_img = cv2.GaussianBlur(img, (kernel_size, kernel_size), 0)\n",
    "    elif filter_type == 'Bilateral':\n",
    "        filtered_img = cv2.bilateralFilter(img, 9, 250, 250)\n",
    "    elif filter_type == 'Kuwahara':\n",
    "        filtered_img = kuwahara(img, method='mean', radius=kernel_size)\n",
    "    \n",
    "    sob = cv2.Sobel(filtered_img, cv2.CV_64F, dx=dx_n, dy=dy_n, ksize=sob_kernel_size)\n",
    "    \n",
    "    display(widgets.Image(value=cv2.imencode('.jpg', img)[1].tobytes()))\n",
    "\n",
    "filter_dropdown = widgets.Dropdown(\n",
    "    options=['Gaussian', 'Bilateral', 'Kuwahara', 'None'],\n",
    "    value='Gaussian',\n",
    "    description='Filter Type:'\n",
    ")\n",
    "\n",
    "kernel_size_slider = widgets.IntSlider(\n",
    "    min=1,\n",
    "    max=15,\n",
    "    step=2,\n",
    "    value=5,\n",
    "    description='Kernel Size:'\n",
    ")\n",
    "\n",
    "sob_kernel_size_slider = widgets.IntSlider(\n",
    "    min=1,\n",
    "    max=15,\n",
    "    step=2,\n",
    "    value=3,\n",
    "    description='Sobel Kernel Size:'\n",
    ")\n",
    "\n",
    "dx_slider = widgets.IntSlider(min=0, max=5, step=1, value=1, description='dx:')\n",
    "dy_slider = widgets.IntSlider(min=0, max=5, step=1, value=1, description='dy:')\n",
    "\n",
    "interact(process_image, filter_type=filter_dropdown, kernel_size=kernel_size_slider, dx_n=dx_slider, dy_n=dy_slider, sob_kernel_size=sob_kernel_size_slider);\n"
   ]
  },
  {
   "cell_type": "code",
   "execution_count": null,
   "metadata": {},
   "outputs": [],
   "source": [
    "def process_image_by_prewitt( option):\n",
    "    kernelx = np.array([[1, 1, 1], [0, 0, 0], [-1, -1, -1]])\n",
    "    kernely = np.array([[-1, 0, 1], [-1, 0, 1], [-1, 0, 1]])\n",
    "    img_prewittx = cv2.filter2D(filt_to_edge, cv2.CV_64F, kernelx)\n",
    "    img_prewitty = cv2.filter2D(filt_to_edge, cv2.CV_64F, kernely)\n",
    "    img_combined =  img_prewittx + img_prewitty\n",
    "    img_combined = cv2.addWeighted(img_prewittx,0.5,img_prewitty,0.5,0) \n",
    "    \n",
    "    if option == 'Prewitt X':\n",
    "        display(widgets.Image(value=cv2.imencode('.jpg', img_prewittx)[1].tobytes()))\n",
    "    elif option == 'Prewitt Y':\n",
    "        display(widgets.Image(value=cv2.imencode('.jpg', img_prewitty)[1].tobytes()))\n",
    "    elif option == 'Prewitt X + Y':\n",
    "        display(widgets.Image(value=cv2.imencode('.jpg', img_combined)[1].tobytes()))\n",
    "\n",
    "\n",
    "option_dropdown = widgets.Dropdown(options=['Prewitt X', 'Prewitt Y', 'Prewitt X + Y'], description='Option')\n",
    "\n",
    "widgets.interact(process_image_by_prewitt, option=option_dropdown)\n"
   ]
  },
  {
   "cell_type": "code",
   "execution_count": null,
   "metadata": {},
   "outputs": [],
   "source": [
    "def process_image_by_laplacian(laplacian_kernel_size):\n",
    "    img_laplace=cv2.Laplacian(filt_to_edge,cv2.CV_64F,ksize=laplacian_kernel_size)\n",
    "    display(widgets.Image(value=cv2.imencode('.jpg', img_laplace)[1].tobytes()))\n",
    "    \n",
    "\n",
    "\n",
    "thr_1_slider = widgets.IntSlider(min=1, max=15, step=2, value=3, description='Laplacian_Kernel_Size:')\n",
    "interact(process_image_by_laplacian, laplacian_kernel_size=thr_1_slider); \n"
   ]
  },
  {
   "cell_type": "code",
   "execution_count": null,
   "metadata": {},
   "outputs": [],
   "source": [
    "def process_image_by_canny(thr_1, thr_2):\n",
    "    Canny_img = cv2.Canny(filt_to_edge, thr_1, thr_2)\n",
    "    display(widgets.Image(value=cv2.imencode('.jpg', Canny_img)[1].tobytes()))\n",
    "\n",
    "thr_1_slider = widgets.IntSlider(min=0, max=500, step=1, value=150, description='Threshold 1:')\n",
    "thr_2_slider = widgets.IntSlider(min=0, max=500, step=1, value=250, description='Threshold 2:')\n",
    "\n",
    "interact(process_image_by_canny, thr_1=thr_1_slider, thr_2=thr_2_slider)\n"
   ]
  }
 ],
 "metadata": {
  "kernelspec": {
   "display_name": "Python 3",
   "language": "python",
   "name": "python3"
  },
  "language_info": {
   "codemirror_mode": {
    "name": "ipython",
    "version": 3
   },
   "file_extension": ".py",
   "mimetype": "text/x-python",
   "name": "python",
   "nbconvert_exporter": "python",
   "pygments_lexer": "ipython3",
   "version": "3.10.7"
  }
 },
 "nbformat": 4,
 "nbformat_minor": 2
}
