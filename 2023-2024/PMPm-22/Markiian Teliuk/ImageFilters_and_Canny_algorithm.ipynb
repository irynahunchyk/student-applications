{
 "cells": [
  {
   "cell_type": "markdown",
   "metadata": {},
   "source": [
    "### Обробка зображення ківі фільтрами"
   ]
  },
  {
   "cell_type": "code",
   "execution_count": 1,
   "metadata": {},
   "outputs": [
    {
     "data": {
      "text/plain": [
       "True"
      ]
     },
     "execution_count": 1,
     "metadata": {},
     "output_type": "execute_result"
    }
   ],
   "source": [
    "import cv2\n",
    "from pykuwahara import kuwahara\n",
    "\n",
    "image = cv2.imread('kiwi.png')\n",
    "\n",
    "filt1 = kuwahara(image, method='mean', radius=5)\n",
    "filt2 = kuwahara(image, method='gaussian', radius=5)   \n",
    "filt3 = cv2.medianBlur(image,5)\n",
    "filt4 = cv2.blur(image,(5,5))\n",
    "\n",
    "cv2.imwrite('kiwi_kuw_mean-5.jpg', filt1)\n",
    "cv2.imwrite('kiwi_kuw_gaus-5.jpg', filt2)\n",
    "cv2.imwrite('kiwi_median-5.jpg',filt3)\n",
    "cv2.imwrite('kiwi_average-5.jpg',filt4)"
   ]
  },
  {
   "cell_type": "markdown",
   "metadata": {},
   "source": [
    "### Обробка зображення аеродрому фільтрами"
   ]
  },
  {
   "cell_type": "code",
   "execution_count": 2,
   "metadata": {},
   "outputs": [
    {
     "data": {
      "text/plain": [
       "True"
      ]
     },
     "execution_count": 2,
     "metadata": {},
     "output_type": "execute_result"
    }
   ],
   "source": [
    "import cv2\n",
    "from pykuwahara import kuwahara\n",
    "\n",
    "image = cv2.imread('airfield.png')\n",
    "\n",
    "filt1 = kuwahara(image, method='mean', radius=5)\n",
    "filt2 = kuwahara(image, method='gaussian', radius=5)   \n",
    "filt3 = cv2.medianBlur(image,5)\n",
    "filt4 = cv2.blur(image,(5,5))\n",
    "\n",
    "cv2.imwrite('airfield_kuw_mean-5.jpg', filt1)\n",
    "cv2.imwrite('airfield_kuw_gaus-5.jpg', filt2)\n",
    "cv2.imwrite('airfield_median-5.jpg',filt3)\n",
    "cv2.imwrite('airfield_average-5.jpg',filt4)"
   ]
  },
  {
   "cell_type": "markdown",
   "metadata": {},
   "source": [
    "### Модифікація обробленого зображення ківі алгоритмом Кенні"
   ]
  },
  {
   "cell_type": "code",
   "execution_count": 3,
   "metadata": {},
   "outputs": [],
   "source": [
    "img_mean = cv2.imread('kiwi_kuw_mean-5.jpg')\n",
    "img_gaus = cv2.imread('kiwi_kuw_gaus-5.jpg')\n",
    "img_median = cv2.imread('kiwi_median-5.jpg')\n",
    "img_average = cv2.imread('kiwi_average-5.jpg')\n",
    "edges_mean=cv2.Canny(img_mean,50,130)\n",
    "edges_gaus=cv2.Canny(img_gaus,50,130)\n",
    "edges_median=cv2.Canny(img_median,50,130)\n",
    "edges_average=cv2.Canny(img_average,50,130)\n",
    "edges=[edges_mean,edges_gaus,edges_median,edges_average]\n",
    "edge_filenames=['canny_kiwi_kuw_mean-5.jpg','canny_kiwi_kuw_gaus-5.jpg','canny_kiwi_median-5.jpg','canny_kiwi_average-5.jpg']\n",
    "for i in range(0,4):\n",
    "    cv2.imwrite(edge_filenames[i],edges[i])"
   ]
  },
  {
   "cell_type": "markdown",
   "metadata": {},
   "source": [
    "### Модифікація обробленого зображення ківі алгоритмом Кенні"
   ]
  },
  {
   "cell_type": "code",
   "execution_count": 4,
   "metadata": {},
   "outputs": [],
   "source": [
    "img_mean = cv2.imread('airfield_kuw_mean-5.jpg')\n",
    "img_gaus = cv2.imread('airfield_kuw_gaus-5.jpg')\n",
    "img_median = cv2.imread('airfield_median-5.jpg')\n",
    "img_average = cv2.imread('airfield_average-5.jpg')\n",
    "edges_mean=cv2.Canny(img_mean,50,130)\n",
    "edges_gaus=cv2.Canny(img_gaus,50,130)\n",
    "edges_median=cv2.Canny(img_median,50,130)\n",
    "edges_average=cv2.Canny(img_average,50,130)\n",
    "edges=[edges_mean,edges_gaus,edges_median,edges_average]\n",
    "edge_filenames=['canny_airfield_kuw_mean-5.jpg','canny_airfield_kuw_gaus-5.jpg','canny_airfield_median-5.jpg','canny_airfield_average-5.jpg']\n",
    "for i in range(0,4):\n",
    "    cv2.imwrite(edge_filenames[i],edges[i])"
   ]
  }
 ],
 "metadata": {
  "kernelspec": {
   "display_name": "Python 3",
   "language": "python",
   "name": "python3"
  },
  "language_info": {
   "codemirror_mode": {
    "name": "ipython",
    "version": 3
   },
   "file_extension": ".py",
   "mimetype": "text/x-python",
   "name": "python",
   "nbconvert_exporter": "python",
   "pygments_lexer": "ipython3",
   "version": "3.10.7"
  }
 },
 "nbformat": 4,
 "nbformat_minor": 2
}
